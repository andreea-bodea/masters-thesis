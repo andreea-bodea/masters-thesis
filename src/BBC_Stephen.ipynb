{
 "cells": [
  {
   "cell_type": "code",
   "execution_count": 23,
   "metadata": {},
   "outputs": [
    {
     "name": "stdout",
     "output_type": "stream",
     "text": [
      "                                                text          label\n",
      "0  Ray DVD beats box office takings Oscar-nominat...  entertainment\n",
      "1  Brazil plays down Varig rescue The Brazilian g...       business\n",
      "2  Campbell rescues Arsenal Sol Campbell proved t...          sport\n",
      "3  'Blog' picked as word of the year The term \"bl...           tech\n",
      "4  Virgin Blue shares plummet 20% Shares in Austr...       business\n",
      "5  UKIP MEP attacked German 'empire' A UK Indepen...       politics\n",
      "6  Criminal probe on Citigroup deals Traders at U...       business\n",
      "7  O'Driscoll saves Irish blushes Two moments of ...          sport\n",
      "8  EA to take on film and TV giants Video game gi...           tech\n",
      "9  Early Elvis recordings go on sale Some of Elvi...  entertainment\n"
     ]
    }
   ],
   "source": [
    "import pandas as pd\n",
    "\n",
    "file_path = \"/Users/andreeabodea/ANDREEA/MT/Code/PrivFill/data/BBC.csv\"\n",
    "df = pd.read_csv(file_path)\n",
    "print(df.head(10))"
   ]
  },
  {
   "cell_type": "code",
   "execution_count": 24,
   "metadata": {},
   "outputs": [
    {
     "name": "stdout",
     "output_type": "stream",
     "text": [
      "                                                   text     label  \\\n",
      "1822  Gardener battles to narrow win Jason Gardener ...     sport   \n",
      "2024  Peer-to-peer nets 'here to stay' Peer-to-peer ...      tech   \n",
      "51    Peer-to-peer nets 'here to stay' Peer-to-peer ...      tech   \n",
      "310   The 'ticking budget' facing the US The budget ...  business   \n",
      "112   Cebit fever takes over Hanover Thousands of pr...      tech   \n",
      "335   Technology gets the creative bug The hi-tech a...      tech   \n",
      "69    Technology gets the creative bug The hi-tech a...      tech   \n",
      "1084  Howard's unfinished business \"He's not finishe...  politics   \n",
      "990   TV's future down the phone line Internet TV ha...      tech   \n",
      "166   UKIP's secret weapon? By any measure, New York...  politics   \n",
      "\n",
      "      message_length  \n",
      "1822            4963  \n",
      "2024            4946  \n",
      "51              4945  \n",
      "310             4936  \n",
      "112             4904  \n",
      "335             4894  \n",
      "69              4893  \n",
      "1084            4891  \n",
      "990             4887  \n",
      "166             4873  \n"
     ]
    }
   ],
   "source": [
    "df = df.drop_duplicates(subset='text')\n",
    "df['message_length'] = df['text'].apply(len)\n",
    "df = df.sort_values(by='message_length', ascending=False)\n",
    "df_2 = df[df['message_length'] < 5000]\n",
    "print(df_2.head(10))"
   ]
  },
  {
   "cell_type": "code",
   "execution_count": 25,
   "metadata": {},
   "outputs": [
    {
     "name": "stdout",
     "output_type": "stream",
     "text": [
      "                                                   text          label  \\\n",
      "1815  Dawson wins England squad recall Wasps scrum-h...          sport   \n",
      "1453  O'Driscoll/Gregan lead Aid stars Ireland's Bri...          sport   \n",
      "3114  Italy 8-38 Wales Wales secured their first awa...          sport   \n",
      "1679  Wales win in Rome Wales secured their first aw...          sport   \n",
      "1100  Ireland call up uncapped Campbell Ulster scrum...          sport   \n",
      "537   Ireland 19-13 England Ireland consigned Englan...          sport   \n",
      "1725  Ireland surge past Scots Ireland maintained th...          sport   \n",
      "94    Chelsea clinch cup in extra-time (after extra-...          sport   \n",
      "2951  Britain boosted by Holmes double Athletics fan...          sport   \n",
      "416   England 17-18 France England suffered an eight...          sport   \n",
      "152   Ireland 17-12 South Africa Ronan O'Gara scored...          sport   \n",
      "2     Campbell rescues Arsenal Sol Campbell proved t...          sport   \n",
      "2457  Taylor poised for Scotland return Simon Taylor...          sport   \n",
      "1848  Reds sink 10-man Magpies Titus Bramble's own g...          sport   \n",
      "721   Holmes back on form in Birmingham Double Olymp...          sport   \n",
      "1329  Captains lining up for Aid match Ireland's Bri...          sport   \n",
      "1934  The Producers scoops stage awards The Producer...  entertainment   \n",
      "7     O'Driscoll saves Irish blushes Two moments of ...          sport   \n",
      "1661  Federer joins all-time greats The last year ha...          sport   \n",
      "847   GB select Holmes for double bid Kelly Holmes h...          sport   \n",
      "\n",
      "      message_length  pii_nr  \n",
      "1815            3406     121  \n",
      "1453            3025     105  \n",
      "3114            4210     101  \n",
      "1679            4211     100  \n",
      "1100            2424      99  \n",
      "537             4247      97  \n",
      "1725            3540      92  \n",
      "94              3673      92  \n",
      "2951            4787      92  \n",
      "416             3954      90  \n",
      "152             3749      89  \n",
      "2               3445      87  \n",
      "2457            1931      83  \n",
      "1848            2621      83  \n",
      "721             4700      83  \n",
      "1329            1822      83  \n",
      "1934            3878      82  \n",
      "7               2869      82  \n",
      "1661            3998      82  \n",
      "847             3997      81  \n"
     ]
    },
    {
     "name": "stderr",
     "output_type": "stream",
     "text": [
      "/var/folders/mv/q7zzt95s3bjbxyj60fgc67lh0000gn/T/ipykernel_81465/3313464642.py:17: SettingWithCopyWarning: \n",
      "A value is trying to be set on a copy of a slice from a DataFrame.\n",
      "Try using .loc[row_indexer,col_indexer] = value instead\n",
      "\n",
      "See the caveats in the documentation: https://pandas.pydata.org/pandas-docs/stable/user_guide/indexing.html#returning-a-view-versus-a-copy\n",
      "  df_2['pii_nr'] = df_2['text'].apply(count_entities)\n"
     ]
    }
   ],
   "source": [
    "import json\n",
    "from presidio_analyzer import AnalyzerEngine\n",
    "\n",
    "analyzer = AnalyzerEngine()\n",
    "def count_entities(text):\n",
    "    st_analyze_results = analyzer.analyze(\n",
    "        text=text,\n",
    "        language=\"en\",\n",
    "        score_threshold=0.5,\n",
    "        allow_list=[],\n",
    "    )\n",
    "    # results_as_dicts = [result.to_dict() for result in st_analyze_results]\n",
    "    # results_json = json.dumps(results_as_dicts, indent=2)\n",
    "    # print(results_json)\n",
    "    return len(st_analyze_results)\n",
    "\n",
    "df_2['pii_nr'] = df_2['text'].apply(count_entities)\n",
    "df_2 = df_2.sort_values(by='pii_nr', ascending=False)\n",
    "print(df_2.head(20))"
   ]
  },
  {
   "cell_type": "code",
   "execution_count": 49,
   "metadata": {},
   "outputs": [
    {
     "name": "stdout",
     "output_type": "stream",
     "text": [
      "241\n"
     ]
    }
   ],
   "source": [
    "df_3 = df_2[df_2['pii_nr'] < 100]\n",
    "df_3 = df_3[df_3['pii_nr'] > 25]\n",
    "df_3 = df_3[df_3['message_length'] > 3000]\n",
    "print(len(df_3))"
   ]
  },
  {
   "cell_type": "code",
   "execution_count": 50,
   "metadata": {},
   "outputs": [
    {
     "name": "stdout",
     "output_type": "stream",
     "text": [
      "                                                   text          label  \\\n",
      "537   Ireland 19-13 England Ireland consigned Englan...          sport   \n",
      "1725  Ireland surge past Scots Ireland maintained th...          sport   \n",
      "94    Chelsea clinch cup in extra-time (after extra-...          sport   \n",
      "2951  Britain boosted by Holmes double Athletics fan...          sport   \n",
      "416   England 17-18 France England suffered an eight...          sport   \n",
      "152   Ireland 17-12 South Africa Ronan O'Gara scored...          sport   \n",
      "2     Campbell rescues Arsenal Sol Campbell proved t...          sport   \n",
      "721   Holmes back on form in Birmingham Double Olymp...          sport   \n",
      "1934  The Producers scoops stage awards The Producer...  entertainment   \n",
      "1661  Federer joins all-time greats The last year ha...          sport   \n",
      "847   GB select Holmes for double bid Kelly Holmes h...          sport   \n",
      "913   Chelsea denied by James heroics A brave defens...          sport   \n",
      "2606  Man City 0-2 Man Utd Manchester United reduced...          sport   \n",
      "2223  Arsenal through on penalties Arsenal win 4-2 o...          sport   \n",
      "1168  A year to remember for Irish There used to be ...          sport   \n",
      "1392  Celts savour Grand Slam prospect The Six Natio...          sport   \n",
      "462   Chelsea hold Arsenal A gripping game between A...          sport   \n",
      "856   Middlesbrough 2-2 Charlton A late header by te...          sport   \n",
      "2625  Man Utd stroll to Cup win Wayne Rooney made a ...          sport   \n",
      "172   Reaction from Spanish press England's 1-0 defe...          sport   \n",
      "362   Johnson edges out rival Sotherton Jade Johnson...          sport   \n",
      "1822  Gardener battles to narrow win Jason Gardener ...          sport   \n",
      "1130  World leaders gather to face uncertainty More ...       business   \n",
      "2898  2004: An Irish Athletics Year 2004 won't be re...          sport   \n",
      "144   Ex-PM Lord Callaghan dies aged 92 Former Labou...       politics   \n",
      "2736  Newcastle 2-1 Bolton Kieron Dyer smashed home ...          sport   \n",
      "1053  A November to remember Last Saturday, one news...          sport   \n",
      "2004  Arthur Hailey: King of the bestsellers Novelis...  entertainment   \n",
      "390   Dallaglio his own man to the end Controversy a...          sport   \n",
      "2171  Guantanamo man 'suing government' A British te...       politics   \n",
      "1843  Johnny Depp: The acting outlaw Johnny Depp, wh...  entertainment   \n",
      "2506  Business fears over sluggish EU economy As Eur...       business   \n",
      "1129  Indian oil firm eyes Yukos assets India's bigg...       business   \n",
      "1746  Paris promise raises Welsh hopes Has there bee...          sport   \n",
      "1802  Ten-year tragedy of missing Manic Richey Edwar...  entertainment   \n",
      "1597  Guantanamo four free in weeks All four Britons...       politics   \n",
      "1781  'My memories of Marley...' To mark the 60th an...  entertainment   \n",
      "2697  Brentford v Southampton Griffin Park Tuesday, ...          sport   \n",
      "1034  Henson stakes early Lions claim The Six Nation...          sport   \n",
      "2477  G7 backs Africa debt relief plan G7 finance mi...       business   \n",
      "1083  Giggs handed Wales leading role Ryan Giggs wil...          sport   \n",
      "2351  Blair says UK tsunami aid to soar Tony Blair h...       politics   \n",
      "427   Blair says UK tsunami aid to soar Tony Blair h...       politics   \n",
      "377   Ireland win eclipses refereeing 'errors' The I...          sport   \n",
      "689   Grammys honour soul star Charles The memory of...  entertainment   \n",
      "1775  Muslims discuss election concerns Issues that ...       politics   \n",
      "1535  UK rebate 'unjustified' - Chirac French presid...       politics   \n",
      "1548  UK rebate 'unjustified' - Chirac French presid...       politics   \n",
      "175   Blackburn v Burnley Ewood Park Tuesday, 1 Marc...          sport   \n",
      "578   White prepared for battle Tough-scrummaging pr...          sport   \n",
      "\n",
      "      message_length  pii_nr  \n",
      "537             4247      97  \n",
      "1725            3540      92  \n",
      "94              3673      92  \n",
      "2951            4787      92  \n",
      "416             3954      90  \n",
      "152             3749      89  \n",
      "2               3445      87  \n",
      "721             4700      83  \n",
      "1934            3878      82  \n",
      "1661            3998      82  \n",
      "847             3997      81  \n",
      "913             3110      81  \n",
      "2606            3632      80  \n",
      "2223            3126      79  \n",
      "1168            4513      79  \n",
      "1392            3423      78  \n",
      "462             3330      77  \n",
      "856             3397      77  \n",
      "2625            3222      76  \n",
      "172             3620      72  \n",
      "362             3869      72  \n",
      "1822            4963      71  \n",
      "1130            4382      70  \n",
      "2898            4250      69  \n",
      "144             3878      68  \n",
      "2736            3675      68  \n",
      "1053            4319      66  \n",
      "2004            3777      64  \n",
      "390             4409      63  \n",
      "2171            3526      62  \n",
      "1843            3086      62  \n",
      "2506            4595      61  \n",
      "1129            3345      61  \n",
      "1746            3840      61  \n",
      "1802            3953      60  \n",
      "1597            3508      59  \n",
      "1781            3298      58  \n",
      "2697            3757      58  \n",
      "1034            3361      58  \n",
      "2477            4467      57  \n",
      "1083            3561      57  \n",
      "2351            3501      56  \n",
      "427             3504      56  \n",
      "377             3701      56  \n",
      "689             3287      55  \n",
      "1775            3449      55  \n",
      "1535            4038      55  \n",
      "1548            4037      55  \n",
      "175             3603      54  \n",
      "578             3323      54  \n"
     ]
    }
   ],
   "source": [
    "print(df_3.head(50))"
   ]
  },
  {
   "cell_type": "code",
   "execution_count": 52,
   "metadata": {},
   "outputs": [
    {
     "data": {
      "text/plain": [
       "211"
      ]
     },
     "execution_count": 52,
     "metadata": {},
     "output_type": "execute_result"
    }
   ],
   "source": [
    "def first_four_words(text):\n",
    "    return ' '.join(text.split()[:4])\n",
    "df_4 = df_3\n",
    "df_4['first_four_words'] = df_4['text'].apply(first_four_words)\n",
    "df_4 = df_4.drop_duplicates(subset='first_four_words')\n",
    "len(df_4)"
   ]
  },
  {
   "cell_type": "code",
   "execution_count": 53,
   "metadata": {},
   "outputs": [],
   "source": [
    "df_4['text'].to_csv(\"/Users/andreeabodea/ANDREEA/MT/Data/BBC_preprocessed.csv\", index=False)"
   ]
  }
 ],
 "metadata": {
  "kernelspec": {
   "display_name": "base",
   "language": "python",
   "name": "python3"
  },
  "language_info": {
   "codemirror_mode": {
    "name": "ipython",
    "version": 3
   },
   "file_extension": ".py",
   "mimetype": "text/x-python",
   "name": "python",
   "nbconvert_exporter": "python",
   "pygments_lexer": "ipython3",
   "version": "3.12.4"
  }
 },
 "nbformat": 4,
 "nbformat_minor": 2
}
