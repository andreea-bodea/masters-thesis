{
 "cells": [
  {
   "cell_type": "code",
   "execution_count": 1,
   "metadata": {},
   "outputs": [
    {
     "name": "stdout",
     "output_type": "stream",
     "text": [
      "                       file                                            message\n",
      "0     allen-p/_sent_mail/1.  Message-ID: <18782981.1075855378110.JavaMail.e...\n",
      "1    allen-p/_sent_mail/10.  Message-ID: <15464986.1075855378456.JavaMail.e...\n",
      "2   allen-p/_sent_mail/100.  Message-ID: <24216240.1075855687451.JavaMail.e...\n",
      "3  allen-p/_sent_mail/1000.  Message-ID: <13505866.1075863688222.JavaMail.e...\n",
      "4  allen-p/_sent_mail/1001.  Message-ID: <30922949.1075863688243.JavaMail.e...\n"
     ]
    }
   ],
   "source": [
    "import pandas as pd\n",
    "\n",
    "# Define the path to the CSV file\n",
    "file_path = \"/Users/andreeabodea/ANDREEA/MT/emails.csv\"\n",
    "\n",
    "# Read the CSV file into a DataFrame\n",
    "emails_df = pd.read_csv(file_path)\n",
    "\n",
    "# Display the first few rows of the DataFrame\n",
    "print(emails_df.head())"
   ]
  },
  {
   "cell_type": "code",
   "execution_count": 16,
   "metadata": {},
   "outputs": [],
   "source": [
    "first_10_rows = emails_df.head(10)\n",
    "first_10_rows = first_10_rows['message']\n",
    "\n",
    "# Save the first 10 rows to a new CSV file\n",
    "first_10_rows.to_csv(\"/Users/andreeabodea/ANDREEA/MT/emails_first_10.csv\", index=False)"
   ]
  },
  {
   "cell_type": "code",
   "execution_count": 14,
   "metadata": {},
   "outputs": [
    {
     "name": "stdout",
     "output_type": "stream",
     "text": [
      "Message-ID: <8572706.1075855378498.JavaMail.evans@thyme>\n",
      "Date: Thu, 3 May 2001 15:57:00 -0700 (PDT)\n",
      "From: phillip.allen@enron.com\n",
      "To: rlehmann@yahoo.com\n",
      "Subject: \n",
      "Mime-Version: 1.0\n",
      "Content-Type: text/plain; charset=us-ascii\n",
      "Content-Transfer-Encoding: 7bit\n",
      "X-From: Phillip K Allen\n",
      "X-To: rlehmann <rlehmann@yahoo.com>\n",
      "X-cc: \n",
      "X-bcc: \n",
      "X-Folder: \\Phillip_Allen_Jan2002_1\\Allen, Phillip K.\\'Sent Mail\n",
      "X-Origin: Allen-P\n",
      "X-FileName: pallen (Non-Privileged).pst\n",
      "\n",
      "Reagan,\n",
      "\n",
      "Just wanted to give you an update.  I have changed the unit mix to include some 1 bedrooms and reduced the number of buildings to 12.  Kipp Flores is working on the construction drawings.  At the same time I am pursuing FHA financing.  Once the construction drawings are complete I will send them to you for a revised bid.  Your original bid was competitive and I am still attracted to your firm because of your strong local presence and contacts.\n",
      "\n",
      "Phillip\n"
     ]
    }
   ],
   "source": [
    "print(emails_df['message'][28])"
   ]
  },
  {
   "cell_type": "code",
   "execution_count": 7,
   "metadata": {},
   "outputs": [],
   "source": [
    "from presidio_analyzer import AnalyzerEngine\n",
    "\n",
    "analyzer = AnalyzerEngine()    "
   ]
  },
  {
   "cell_type": "code",
   "execution_count": 8,
   "metadata": {},
   "outputs": [],
   "source": [
    "st_analyze_results = analyzer.analyze(\n",
    "    text=emails_df['message'][2],\n",
    "    language=\"en\",\n",
    "    score_threshold=0.5,\n",
    "    allow_list=[],\n",
    "    )\n",
    "\n",
    "# Convert each RecognizerResult to a dictionary\n",
    "results_as_dicts = [result.to_dict() for result in st_analyze_results]\n",
    "\n",
    "# Serialize the list of dictionaries to a JSON string\n",
    "# results_json = json.dumps(results_as_dicts, indent=2)"
   ]
  },
  {
   "cell_type": "code",
   "execution_count": 9,
   "metadata": {},
   "outputs": [
    {
     "name": "stdout",
     "output_type": "stream",
     "text": [
      "[{'entity_type': 'EMAIL_ADDRESS', 'start': 108, 'end': 131, 'score': 1.0, 'analysis_explanation': None, 'recognition_metadata': {'recognizer_name': 'EmailRecognizer', 'recognizer_identifier': 'EmailRecognizer_13098643392'}}, {'entity_type': 'EMAIL_ADDRESS', 'start': 136, 'end': 152, 'score': 1.0, 'analysis_explanation': None, 'recognition_metadata': {'recognizer_name': 'EmailRecognizer', 'recognizer_identifier': 'EmailRecognizer_13098643392'}}, {'entity_type': 'EMAIL_ADDRESS', 'start': 306, 'end': 322, 'score': 1.0, 'analysis_explanation': None, 'recognition_metadata': {'recognizer_name': 'EmailRecognizer', 'recognizer_identifier': 'EmailRecognizer_13098643392'}}, {'entity_type': 'EMAIL_ADDRESS', 'start': 571, 'end': 591, 'score': 1.0, 'analysis_explanation': None, 'recognition_metadata': {'recognizer_name': 'EmailRecognizer', 'recognizer_identifier': 'EmailRecognizer_13098643392'}}, {'entity_type': 'EMAIL_ADDRESS', 'start': 638, 'end': 658, 'score': 1.0, 'analysis_explanation': None, 'recognition_metadata': {'recognizer_name': 'EmailRecognizer', 'recognizer_identifier': 'EmailRecognizer_13098643392'}}, {'entity_type': 'EMAIL_ADDRESS', 'start': 681, 'end': 697, 'score': 1.0, 'analysis_explanation': None, 'recognition_metadata': {'recognizer_name': 'EmailRecognizer', 'recognizer_identifier': 'EmailRecognizer_13098643392'}}, {'entity_type': 'EMAIL_ADDRESS', 'start': 719, 'end': 745, 'score': 1.0, 'analysis_explanation': None, 'recognition_metadata': {'recognizer_name': 'EmailRecognizer', 'recognizer_identifier': 'EmailRecognizer_13098643392'}}, {'entity_type': 'EMAIL_ADDRESS', 'start': 771, 'end': 788, 'score': 1.0, 'analysis_explanation': None, 'recognition_metadata': {'recognizer_name': 'EmailRecognizer', 'recognizer_identifier': 'EmailRecognizer_13098643392'}}, {'entity_type': 'DATE_TIME', 'start': 69, 'end': 80, 'score': 0.85, 'analysis_explanation': None, 'recognition_metadata': {'recognizer_name': 'SpacyRecognizer', 'recognizer_identifier': 'SpacyRecognizer_13051875536'}}, {'entity_type': 'DATE_TIME', 'start': 81, 'end': 89, 'score': 0.85, 'analysis_explanation': None, 'recognition_metadata': {'recognizer_name': 'SpacyRecognizer', 'recognizer_identifier': 'SpacyRecognizer_13051875536'}}, {'entity_type': 'PERSON', 'start': 284, 'end': 301, 'score': 0.85, 'analysis_explanation': None, 'recognition_metadata': {'recognizer_name': 'SpacyRecognizer', 'recognizer_identifier': 'SpacyRecognizer_13051875536'}}, {'entity_type': 'PERSON', 'start': 474, 'end': 493, 'score': 0.85, 'analysis_explanation': None, 'recognition_metadata': {'recognizer_name': 'SpacyRecognizer', 'recognizer_identifier': 'SpacyRecognizer_13051875536'}}, {'entity_type': 'DATE_TIME', 'start': 513, 'end': 521, 'score': 0.85, 'analysis_explanation': None, 'recognition_metadata': {'recognizer_name': 'SpacyRecognizer', 'recognizer_identifier': 'SpacyRecognizer_13051875536'}}, {'entity_type': 'PERSON', 'start': 553, 'end': 568, 'score': 0.85, 'analysis_explanation': None, 'recognition_metadata': {'recognizer_name': 'SpacyRecognizer', 'recognizer_identifier': 'SpacyRecognizer_13051875536'}}, {'entity_type': 'PERSON', 'start': 665, 'end': 678, 'score': 0.85, 'analysis_explanation': None, 'recognition_metadata': {'recognizer_name': 'SpacyRecognizer', 'recognizer_identifier': 'SpacyRecognizer_13051875536'}}, {'entity_type': 'PERSON', 'start': 704, 'end': 716, 'score': 0.85, 'analysis_explanation': None, 'recognition_metadata': {'recognizer_name': 'SpacyRecognizer', 'recognizer_identifier': 'SpacyRecognizer_13051875536'}}, {'entity_type': 'PERSON', 'start': 749, 'end': 767, 'score': 0.85, 'analysis_explanation': None, 'recognition_metadata': {'recognizer_name': 'SpacyRecognizer', 'recognizer_identifier': 'SpacyRecognizer_13051875536'}}, {'entity_type': 'DATE_TIME', 'start': 2129, 'end': 2150, 'score': 0.85, 'analysis_explanation': None, 'recognition_metadata': {'recognizer_name': 'SpacyRecognizer', 'recognizer_identifier': 'SpacyRecognizer_13051875536'}}, {'entity_type': 'DATE_TIME', 'start': 2320, 'end': 2334, 'score': 0.85, 'analysis_explanation': None, 'recognition_metadata': {'recognizer_name': 'SpacyRecognizer', 'recognizer_identifier': 'SpacyRecognizer_13051875536'}}, {'entity_type': 'DATE_TIME', 'start': 2561, 'end': 2568, 'score': 0.85, 'analysis_explanation': None, 'recognition_metadata': {'recognizer_name': 'SpacyRecognizer', 'recognizer_identifier': 'SpacyRecognizer_13051875536'}}, {'entity_type': 'DATE_TIME', 'start': 2610, 'end': 2616, 'score': 0.85, 'analysis_explanation': None, 'recognition_metadata': {'recognizer_name': 'SpacyRecognizer', 'recognizer_identifier': 'SpacyRecognizer_13051875536'}}, {'entity_type': 'LOCATION', 'start': 2771, 'end': 2789, 'score': 0.85, 'analysis_explanation': None, 'recognition_metadata': {'recognizer_name': 'SpacyRecognizer', 'recognizer_identifier': 'SpacyRecognizer_13051875536'}}, {'entity_type': 'DATE_TIME', 'start': 3160, 'end': 3168, 'score': 0.85, 'analysis_explanation': None, 'recognition_metadata': {'recognizer_name': 'SpacyRecognizer', 'recognizer_identifier': 'SpacyRecognizer_13051875536'}}, {'entity_type': 'DATE_TIME', 'start': 3223, 'end': 3230, 'score': 0.85, 'analysis_explanation': None, 'recognition_metadata': {'recognizer_name': 'SpacyRecognizer', 'recognizer_identifier': 'SpacyRecognizer_13051875536'}}, {'entity_type': 'DATE_TIME', 'start': 3282, 'end': 3290, 'score': 0.85, 'analysis_explanation': None, 'recognition_metadata': {'recognizer_name': 'SpacyRecognizer', 'recognizer_identifier': 'SpacyRecognizer_13051875536'}}, {'entity_type': 'PERSON', 'start': 6881, 'end': 6893, 'score': 0.85, 'analysis_explanation': None, 'recognition_metadata': {'recognizer_name': 'SpacyRecognizer', 'recognizer_identifier': 'SpacyRecognizer_13051875536'}}, {'entity_type': 'PERSON', 'start': 8215, 'end': 8220, 'score': 0.85, 'analysis_explanation': None, 'recognition_metadata': {'recognizer_name': 'SpacyRecognizer', 'recognizer_identifier': 'SpacyRecognizer_13051875536'}}, {'entity_type': 'PERSON', 'start': 8974, 'end': 8989, 'score': 0.85, 'analysis_explanation': None, 'recognition_metadata': {'recognizer_name': 'SpacyRecognizer', 'recognizer_identifier': 'SpacyRecognizer_13051875536'}}, {'entity_type': 'DATE_TIME', 'start': 501, 'end': 511, 'score': 0.6, 'analysis_explanation': None, 'recognition_metadata': {'recognizer_name': 'DateRecognizer', 'recognizer_identifier': 'DateRecognizer_13048313088'}}, {'entity_type': 'DATE_TIME', 'start': 596, 'end': 606, 'score': 0.6, 'analysis_explanation': None, 'recognition_metadata': {'recognizer_name': 'DateRecognizer', 'recognizer_identifier': 'DateRecognizer_13048313088'}}, {'entity_type': 'URL', 'start': 108, 'end': 118, 'score': 0.5, 'analysis_explanation': None, 'recognition_metadata': {'recognizer_name': 'UrlRecognizer', 'recognizer_identifier': 'UrlRecognizer_13098638928'}}, {'entity_type': 'URL', 'start': 122, 'end': 131, 'score': 0.5, 'analysis_explanation': None, 'recognition_metadata': {'recognizer_name': 'UrlRecognizer', 'recognizer_identifier': 'UrlRecognizer_13098638928'}}, {'entity_type': 'URL', 'start': 143, 'end': 152, 'score': 0.5, 'analysis_explanation': None, 'recognition_metadata': {'recognizer_name': 'UrlRecognizer', 'recognizer_identifier': 'UrlRecognizer_13098638928'}}, {'entity_type': 'URL', 'start': 313, 'end': 322, 'score': 0.5, 'analysis_explanation': None, 'recognition_metadata': {'recognizer_name': 'UrlRecognizer', 'recognizer_identifier': 'UrlRecognizer_13098638928'}}, {'entity_type': 'URL', 'start': 578, 'end': 591, 'score': 0.5, 'analysis_explanation': None, 'recognition_metadata': {'recognizer_name': 'UrlRecognizer', 'recognizer_identifier': 'UrlRecognizer_13098638928'}}, {'entity_type': 'URL', 'start': 645, 'end': 658, 'score': 0.5, 'analysis_explanation': None, 'recognition_metadata': {'recognizer_name': 'UrlRecognizer', 'recognizer_identifier': 'UrlRecognizer_13098638928'}}, {'entity_type': 'URL', 'start': 688, 'end': 697, 'score': 0.5, 'analysis_explanation': None, 'recognition_metadata': {'recognizer_name': 'UrlRecognizer', 'recognizer_identifier': 'UrlRecognizer_13098638928'}}, {'entity_type': 'URL', 'start': 727, 'end': 745, 'score': 0.5, 'analysis_explanation': None, 'recognition_metadata': {'recognizer_name': 'UrlRecognizer', 'recognizer_identifier': 'UrlRecognizer_13098638928'}}, {'entity_type': 'URL', 'start': 781, 'end': 788, 'score': 0.5, 'analysis_explanation': None, 'recognition_metadata': {'recognizer_name': 'UrlRecognizer', 'recognizer_identifier': 'UrlRecognizer_13098638928'}}]\n"
     ]
    }
   ],
   "source": [
    "print(results_as_dicts)"
   ]
  },
  {
   "cell_type": "code",
   "execution_count": null,
   "metadata": {},
   "outputs": [],
   "source": []
  }
 ],
 "metadata": {
  "kernelspec": {
   "display_name": "base",
   "language": "python",
   "name": "python3"
  },
  "language_info": {
   "codemirror_mode": {
    "name": "ipython",
    "version": 3
   },
   "file_extension": ".py",
   "mimetype": "text/x-python",
   "name": "python",
   "nbconvert_exporter": "python",
   "pygments_lexer": "ipython3",
   "version": "3.12.4"
  }
 },
 "nbformat": 4,
 "nbformat_minor": 2
}
