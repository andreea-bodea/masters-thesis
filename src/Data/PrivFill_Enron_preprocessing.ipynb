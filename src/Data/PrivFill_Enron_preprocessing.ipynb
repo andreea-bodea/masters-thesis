{
 "cells": [
  {
   "cell_type": "code",
   "execution_count": 24,
   "metadata": {},
   "outputs": [
    {
     "name": "stdout",
     "output_type": "stream",
     "text": [
      "       author                                               text\n",
      "0  dasovich-j  His name is Sean Steele. I'll have his number ...\n",
      "1  dasovich-j  Don't hate me for sending a note. What do you ...\n",
      "2  dasovich-j  Here's a cut at the taxonomy of regulatory ris...\n",
      "3  dasovich-j  Thanks. I'm in Goucester Mass this week but am...\n",
      "4  dasovich-j     Thanks. See you tomorrow night in the tah moh.\n",
      "5  dasovich-j  No problem here. That price is making DWR's co...\n",
      "6  dasovich-j  Looks like Prentice and Nancy will be getting ...\n",
      "7  dasovich-j  Janelle: Here's an email and slightly modified...\n",
      "8  dasovich-j  FYI. SoCalGas is filing in favor of the decisi...\n",
      "9  dasovich-j         FYI. May be useful for Thursday's meeting.\n"
     ]
    }
   ],
   "source": [
    "import pandas as pd\n",
    "\n",
    "file_path = \"./PrivFill/data/enron.csv\"\n",
    "emails_df = pd.read_csv(file_path)\n",
    "print(emails_df.head(10))"
   ]
  },
  {
   "cell_type": "code",
   "execution_count": 25,
   "metadata": {},
   "outputs": [
    {
     "name": "stdout",
     "output_type": "stream",
     "text": [
      "           author                                               text  \\\n",
      "510    dasovich-j  You see this? What the hell is with Cramer? Da...   \n",
      "605    dasovich-j  Firms Push Edison Near Bankruptcy Energy: Powe...   \n",
      "59     dasovich-j  Governor wants to cut costs of power Tough sel...   \n",
      "52     dasovich-j  This looks like LA Times/Wall Street Journal m...   \n",
      "309    dasovich-j  California; Metro Desk Electricity Cost Data S...   \n",
      "1905    germany-c  Ruth Concannon told me we want to try and sell...   \n",
      "4958  williams-w3  John, Goodness! Great questions!..I could answ...   \n",
      "8461     forney-j  David, I need some help with an Ercot protocol...   \n",
      "7717     arnold-j  [Arnold, John] jarnold@enron.com Panel height:...   \n",
      "5289    kitchen-l  Below is the draft of our governance which I t...   \n",
      "\n",
      "      message_length  \n",
      "510             7482  \n",
      "605             6494  \n",
      "59              6425  \n",
      "52              5808  \n",
      "309             5713  \n",
      "1905            5701  \n",
      "4958            5411  \n",
      "8461            5221  \n",
      "7717            5099  \n",
      "5289            4981  \n"
     ]
    }
   ],
   "source": [
    "emails_df['message_length'] = emails_df['text'].apply(len)\n",
    "emails_df = emails_df.sort_values(by='message_length', ascending=False)\n",
    "emails_df = emails_df[emails_df['message_length'] < 7500]\n",
    "print(emails_df.head(10))"
   ]
  },
  {
   "cell_type": "code",
   "execution_count": 30,
   "metadata": {},
   "outputs": [
    {
     "name": "stdout",
     "output_type": "stream",
     "text": [
      "          author                                               text  \\\n",
      "1315   germany-c  little chat on 5/2/02 Never give out your pass...   \n",
      "510   dasovich-j  You see this? What the hell is with Cramer? Da...   \n",
      "52    dasovich-j  This looks like LA Times/Wall Street Journal m...   \n",
      "309   dasovich-j  California; Metro Desk Electricity Cost Data S...   \n",
      "1905   germany-c  Ruth Concannon told me we want to try and sell...   \n",
      "5289   kitchen-l  Below is the draft of our governance which I t...   \n",
      "366   dasovich-j  Riordan edges out Davis in Field Poll: A surve...   \n",
      "7717    arnold-j  [Arnold, John] jarnold@enron.com Panel height:...   \n",
      "59    dasovich-j  Governor wants to cut costs of power Tough sel...   \n",
      "3205     scott-s  1. What time is it? 10:22 AM 2. Name that appe...   \n",
      "\n",
      "      message_length  pii_nr  \n",
      "1315            4932     150  \n",
      "510             7482      96  \n",
      "52              5808      89  \n",
      "309             5713      72  \n",
      "1905            5701      66  \n",
      "5289            4981      64  \n",
      "366             4106      62  \n",
      "7717            5099      58  \n",
      "59              6425      54  \n",
      "3205            3982      53  \n"
     ]
    }
   ],
   "source": [
    "import json\n",
    "from presidio_analyzer import AnalyzerEngine\n",
    "\n",
    "analyzer = AnalyzerEngine()\n",
    "def count_entities(text):\n",
    "    st_analyze_results = analyzer.analyze(\n",
    "        text=text,\n",
    "        language=\"en\",\n",
    "        score_threshold=0.5,\n",
    "        allow_list=[],\n",
    "    )\n",
    "    # results_as_dicts = [result.to_dict() for result in st_analyze_results]\n",
    "    # results_json = json.dumps(results_as_dicts, indent=2)\n",
    "    # print(results_json)\n",
    "    return len(st_analyze_results)\n",
    "\n",
    "emails_df['pii_nr'] = emails_df['text'].apply(count_entities)\n",
    "emails_df = emails_df.sort_values(by='pii_nr', ascending=False)\n",
    "print(emails_df.head(10))"
   ]
  },
  {
   "cell_type": "code",
   "execution_count": 32,
   "metadata": {},
   "outputs": [],
   "source": [
    "emails_df['text'].to_csv(\"./Enron_preprocessed.csv\", index=False)"
   ]
  },
  {
   "cell_type": "code",
   "execution_count": 33,
   "metadata": {},
   "outputs": [
    {
     "data": {
      "text/plain": [
       "(12276, 4)"
      ]
     },
     "execution_count": 33,
     "metadata": {},
     "output_type": "execute_result"
    }
   ],
   "source": [
    "emails_df.shape"
   ]
  }
 ],
 "metadata": {
  "kernelspec": {
   "display_name": "base",
   "language": "python",
   "name": "python3"
  },
  "language_info": {
   "codemirror_mode": {
    "name": "ipython",
    "version": 3
   },
   "file_extension": ".py",
   "mimetype": "text/x-python",
   "name": "python",
   "nbconvert_exporter": "python",
   "pygments_lexer": "ipython3",
   "version": "3.12.4"
  }
 },
 "nbformat": 4,
 "nbformat_minor": 2
}
